{
 "cells": [
  {
   "cell_type": "code",
   "execution_count": null,
   "id": "successful-birth",
   "metadata": {},
   "outputs": [],
   "source": [
    "#text\n",
    "#take away the punctuation\n",
    "#post tag\n",
    "#pick nouns \n",
    "#pick verbs\n",
    "#serach for 3 most similar nouns\n",
    "#search for 3  most similar verbs\n",
    "#pick 1 noun\n",
    "#pick 1 verb\n"
   ]
  },
  {
   "cell_type": "code",
   "execution_count": 65,
   "id": "premium-civilian",
   "metadata": {
    "scrolled": true
   },
   "outputs": [
    {
     "name": "stderr",
     "output_type": "stream",
     "text": [
      "[nltk_data] Downloading package brown to /Users/Masha/nltk_data...\n",
      "[nltk_data]   Package brown is already up-to-date!\n"
     ]
    }
   ],
   "source": [
    "import nltk\n",
    "from nltk.tokenize import word_tokenize\n",
    "nltk.download('brown')\n",
    "import random\n",
    "import gensim\n",
    "from nltk.data import find\n",
    "from nltk.corpus import stopwords\n",
    "\n",
    "def get_words(text):\n",
    "    word2vec_sample = str(find('models/word2vec_sample/pruned.word2vec.txt'))\n",
    "    model = gensim.models.KeyedVectors.load_word2vec_format(word2vec_sample, binary=False)\n",
    "    stopWords = set(stopwords.words('english'))\n",
    "    text = nltk.word_tokenize(text)\n",
    "    text = [word.lower() for word in text]\n",
    "    text1 = nltk.pos_tag(text)\n",
    "    nouns = []\n",
    "    for n in text1: \n",
    "        if n[1].startswith('N'):\n",
    "            nouns.append(n[0])\n",
    "            \n",
    "    verbs = []\n",
    "    for n in text1: \n",
    "        if n[1].startswith('V'):\n",
    "            verbs.append(n[0])\n",
    "            \n",
    "            \n",
    "    noun_chosen = random.randint(0,len(nouns)-1)\n",
    "    noun = nouns[noun_chosen]\n",
    "\n",
    "    verb_chosen = random.randint(0,len(verbs)-1)\n",
    "    verb = verbs[verb_chosen]\n",
    "\n",
    "    list_nouns = model.most_similar(positive=[noun], topn = 3)\n",
    "    list_verbs = model.most_similar(positive=[verb], topn = 10)\n",
    "    \n",
    "    \n",
    "    similar_nouns = [s[0] for s in list_nouns]\n",
    "    similar_verbs = [s[0] for s in list_verbs]\n",
    "    similar2_verbs = [v for v in similar_verbs if v not in stopWords]\n",
    "    return similar_nouns, similar2_verbs[-3:]\n",
    "    \n",
    "    "
   ]
  },
  {
   "cell_type": "code",
   "execution_count": 69,
   "id": "least-puzzle",
   "metadata": {},
   "outputs": [],
   "source": [
    "#TODO when the list is empty add a differentiator"
   ]
  },
  {
   "cell_type": "code",
   "execution_count": 70,
   "id": "intimate-chain",
   "metadata": {},
   "outputs": [],
   "source": [
    "nouns, verbs = get_words(\"the sun had gone to ski but the joy is still here\")"
   ]
  },
  {
   "cell_type": "code",
   "execution_count": 71,
   "id": "streaming-concord",
   "metadata": {},
   "outputs": [
    {
     "name": "stdout",
     "output_type": "stream",
     "text": [
      "['elation', 'joyful', 'delight']\n"
     ]
    }
   ],
   "source": [
    "print(nouns)"
   ]
  },
  {
   "cell_type": "code",
   "execution_count": 72,
   "id": "working-orbit",
   "metadata": {},
   "outputs": [
    {
     "name": "stdout",
     "output_type": "stream",
     "text": [
      "['moved', 'going', 'disappeared']\n"
     ]
    }
   ],
   "source": [
    "print(verbs)"
   ]
  },
  {
   "cell_type": "code",
   "execution_count": null,
   "id": "existing-timothy",
   "metadata": {},
   "outputs": [],
   "source": []
  }
 ],
 "metadata": {
  "kernelspec": {
   "display_name": "Python 3",
   "language": "python",
   "name": "python3"
  },
  "language_info": {
   "codemirror_mode": {
    "name": "ipython",
    "version": 3
   },
   "file_extension": ".py",
   "mimetype": "text/x-python",
   "name": "python",
   "nbconvert_exporter": "python",
   "pygments_lexer": "ipython3",
   "version": "3.8.6"
  }
 },
 "nbformat": 4,
 "nbformat_minor": 5
}
