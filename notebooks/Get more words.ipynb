{
 "cells": [
  {
   "cell_type": "code",
   "execution_count": 79,
   "id": "french-pursuit",
   "metadata": {
    "scrolled": true
   },
   "outputs": [
    {
     "name": "stderr",
     "output_type": "stream",
     "text": [
      "[nltk_data] Downloading package brown to /Users/Masha/nltk_data...\n",
      "[nltk_data]   Package brown is already up-to-date!\n"
     ]
    }
   ],
   "source": [
    "import nltk\n",
    "from nltk.tokenize import word_tokenize\n",
    "nltk.download('brown')\n",
    "import random\n",
    "import gensim\n",
    "from nltk.data import find\n",
    "from nltk.corpus import stopwords\n",
    "import string \n",
    "\n",
    "\n",
    "def get_words(text, maxnouns = 7):\n",
    "    word2vec_sample = str(find('models/word2vec_sample/pruned.word2vec.txt'))\n",
    "    model = gensim.models.KeyedVectors.load_word2vec_format(word2vec_sample, binary=False)\n",
    "    stopWords = set(stopwords.words('english'))\n",
    "    \n",
    "    string.punctuation\n",
    "    for punctuation in string.punctuation:\n",
    "        text = text.replace(punctuation, '') \n",
    "\n",
    "    text = nltk.word_tokenize(text)\n",
    "    text = [word.lower() for word in text]\n",
    "    \n",
    "    text1 = nltk.pos_tag(text)\n",
    "    \n",
    "    nouns = []\n",
    "    for n in text1: \n",
    "        if n[1].startswith('N'):\n",
    "            nouns.append(n[0])\n",
    "            \n",
    "    verbs = []\n",
    "    for n in text1: \n",
    "        if n[1].startswith('V'):\n",
    "            verbs.append(n[0])\n",
    "        \n",
    "        if n[1].startswith('J'):\n",
    "            verbs.append(n[0])\n",
    "            \n",
    "        if n[1].startswith('R'):\n",
    "            verbs.append(n[0])       \n",
    "            \n",
    "    original_nouns = nouns \n",
    "    while len(nouns)>maxnouns:\n",
    "        del nouns[random.randint(0,len(nouns)-1)]\n",
    "        \n",
    "        \n",
    "    if nouns == []:\n",
    "        nouns = ['bear']\n",
    "        \n",
    "    \n",
    "    #noun_chosen = random.randint(0,len(nouns)-1)\n",
    "    #noun = nouns[noun_chosen]\n",
    "\n",
    "    verb_chosen = random.randint(0,len(verbs)-1)\n",
    "    verb = verbs[verb_chosen]\n",
    "\n",
    "    #list_nouns = model.most_similar(positive=[original_nouns], topn = 3)\n",
    "    list_verbs = model.most_similar(positive=[verb], topn = 10)\n",
    "    \n",
    "    \n",
    "    #similar_nouns = [s[0] for s in list_nouns]\n",
    "    similar_verbs = [s[0] for s in list_verbs]\n",
    "    similar2_verbs = [v for v in similar_verbs if v not in stopWords]\n",
    "    \n",
    "    if verbs == []:\n",
    "        verbs = ['fly', 'run', 'go']\n",
    "    \n",
    "    final_verbs = []\n",
    "\n",
    "    while len(final_verbs) < 2 * len(nouns):\n",
    "        for v in verbs:\n",
    "            new_words = model.most_similar(positive=[v], topn = 4)[-3:-1]\n",
    "            new_words2 = [s[0] for s in new_words]\n",
    "            final_verbs = final_verbs + new_words2\n",
    "        verbs = final_verbs\n",
    "    #generate\n",
    "    # has many random verbs final_verbs \n",
    "    \n",
    "    very_final_verbs = []\n",
    "    while len(very_final_verbs) < 2 * len(nouns):\n",
    "        very_final_verbs.append(final_verbs.pop(random.randint(0,len(final_verbs)-1)))\n",
    "        \n",
    "        \n",
    "    \n",
    "    return original_nouns, very_final_verbs"
   ]
  },
  {
   "cell_type": "code",
   "execution_count": 49,
   "id": "blessed-syria",
   "metadata": {},
   "outputs": [],
   "source": [
    "#text = \"The brown bear goes to get some strawberries to the forest\"\n",
    "#original nouns to content. bear, s.b., forest - > 3 content images >> number of pics, max 7.\n",
    "# content Original + 1 similar ?\n",
    "#len(nouns) # will determine how many pics. If it's longer than 10 or 7, then we pick 7 randomly.\n",
    "\n",
    "# style: verbs + adjectvies + similars"
   ]
  },
  {
   "cell_type": "code",
   "execution_count": 56,
   "id": "gorgeous-maple",
   "metadata": {},
   "outputs": [],
   "source": [
    "\n",
    "\n",
    "#content = \n",
    "\n",
    "#style = "
   ]
  },
  {
   "cell_type": "code",
   "execution_count": 80,
   "id": "moderate-webcam",
   "metadata": {},
   "outputs": [],
   "source": [
    "nouns, verbs = get_words(\"yesterday i took a walk along the river\")"
   ]
  },
  {
   "cell_type": "code",
   "execution_count": 81,
   "id": "valued-tender",
   "metadata": {},
   "outputs": [
    {
     "name": "stdout",
     "output_type": "stream",
     "text": [
      "['yesterday', 'walk', 'river']\n"
     ]
    }
   ],
   "source": [
    "print(nouns)"
   ]
  },
  {
   "cell_type": "code",
   "execution_count": 82,
   "id": "corresponding-fisher",
   "metadata": {},
   "outputs": [
    {
     "name": "stdout",
     "output_type": "stream",
     "text": [
      "['u', 'taken', 'took', 'wanta', 'took', 'probly', 'anythin']\n"
     ]
    }
   ],
   "source": [
    "print(verbs)"
   ]
  },
  {
   "cell_type": "code",
   "execution_count": null,
   "id": "consolidated-allowance",
   "metadata": {},
   "outputs": [],
   "source": []
  }
 ],
 "metadata": {
  "kernelspec": {
   "display_name": "Python 3",
   "language": "python",
   "name": "python3"
  },
  "language_info": {
   "codemirror_mode": {
    "name": "ipython",
    "version": 3
   },
   "file_extension": ".py",
   "mimetype": "text/x-python",
   "name": "python",
   "nbconvert_exporter": "python",
   "pygments_lexer": "ipython3",
   "version": "3.8.6"
  }
 },
 "nbformat": 4,
 "nbformat_minor": 5
}
