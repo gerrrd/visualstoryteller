{
 "cells": [
  {
   "cell_type": "markdown",
   "id": "controlling-budapest",
   "metadata": {},
   "source": [
    "# Exploring the 'Unsplash\" API"
   ]
  },
  {
   "cell_type": "code",
   "execution_count": 3,
   "id": "defensive-manitoba",
   "metadata": {},
   "outputs": [],
   "source": [
    "import requests"
   ]
  },
  {
   "cell_type": "code",
   "execution_count": 8,
   "id": "southern-summit",
   "metadata": {},
   "outputs": [],
   "source": [
    "base_uri = 'https://api.unsplash.com'\n",
    "client_id = 'mlLjW1R9BDrvgazKso2Y4i_b5x9wmegEqGWO5loBrTc'"
   ]
  },
  {
   "cell_type": "code",
   "execution_count": 10,
   "id": "municipal-ideal",
   "metadata": {},
   "outputs": [],
   "source": [
    "#request a random picture\n",
    "\n",
    "endpoint = '/photos/random'\n",
    "params = {'client_id': client_id}\n",
    "\n",
    "response = requests.get(base_uri + endpoint, params=params)\n",
    "json_file = response.json()\n",
    "raw_link = json_file['urls']['raw']"
   ]
  },
  {
   "cell_type": "code",
   "execution_count": 11,
   "id": "portuguese-interaction",
   "metadata": {},
   "outputs": [
    {
     "data": {
      "text/plain": [
       "'https://images.unsplash.com/photo-1612640674265-f7f210068e9f?ixid=MXwyMTEyNTd8MHwxfHJhbmRvbXx8fHx8fHx8&ixlib=rb-1.2.1'"
      ]
     },
     "execution_count": 11,
     "metadata": {},
     "output_type": "execute_result"
    }
   ],
   "source": [
    "raw_link"
   ]
  },
  {
   "cell_type": "code",
   "execution_count": 19,
   "id": "worth-representation",
   "metadata": {},
   "outputs": [],
   "source": [
    "#request a random picture based on a search query\n",
    "\n",
    "endpoint = '/photos/random'\n",
    "params = {\n",
    "    'client_id': client_id,\n",
    "    'query': 'dog'\n",
    "}\n",
    "\n",
    "response = requests.get(base_uri + endpoint, params=params)\n",
    "json_file = response.json()\n",
    "raw_link_query = json_file['urls']['raw']"
   ]
  },
  {
   "cell_type": "code",
   "execution_count": 20,
   "id": "simplified-cargo",
   "metadata": {},
   "outputs": [
    {
     "data": {
      "text/plain": [
       "'https://images.unsplash.com/photo-1614065977804-0747aa706097?ixid=MXwyMTEyNTd8MHwxfHJhbmRvbXx8fHx8fHx8&ixlib=rb-1.2.1'"
      ]
     },
     "execution_count": 20,
     "metadata": {},
     "output_type": "execute_result"
    }
   ],
   "source": [
    "raw_link_query"
   ]
  },
  {
   "cell_type": "code",
   "execution_count": 38,
   "id": "coordinated-divorce",
   "metadata": {},
   "outputs": [],
   "source": [
    "#request based on multiple search query words\n",
    "# (!) This endpoint returns a dictionary of results\n",
    "\n",
    "words = ['office', 'dog']\n",
    "endpoint = '/search/photos'\n",
    "params = {\n",
    "    'client_id': client_id,\n",
    "    'query': '-'.join(words)\n",
    "}\n",
    "\n",
    "response = requests.get(base_uri + endpoint, params=params)\n",
    "json_file = response.json()\n",
    "raw_link_query_mult = json_file['results'][0]['urls']['raw']"
   ]
  },
  {
   "cell_type": "code",
   "execution_count": 39,
   "id": "durable-essay",
   "metadata": {
    "scrolled": true
   },
   "outputs": [
    {
     "data": {
      "text/plain": [
       "'https://images.unsplash.com/photo-1588859294270-cc672c663934?ixid=MXwyMTEyNTd8MHwxfHNlYXJjaHwxfHxvZmZpY2UtZG9nfGVufDB8fHw&ixlib=rb-1.2.1'"
      ]
     },
     "execution_count": 39,
     "metadata": {},
     "output_type": "execute_result"
    }
   ],
   "source": [
    "raw_link_query_mult"
   ]
  },
  {
   "cell_type": "code",
   "execution_count": 50,
   "id": "medium-korean",
   "metadata": {},
   "outputs": [
    {
     "data": {
      "text/plain": [
       "10"
      ]
     },
     "execution_count": 50,
     "metadata": {},
     "output_type": "execute_result"
    }
   ],
   "source": [
    "len(json_file['results'])"
   ]
  },
  {
   "cell_type": "markdown",
   "id": "involved-framework",
   "metadata": {},
   "source": [
    "## Retrieving info for author attribution (required by Unsplash)"
   ]
  },
  {
   "cell_type": "code",
   "execution_count": 44,
   "id": "retired-links",
   "metadata": {},
   "outputs": [],
   "source": [
    "author_profile = json_file['results'][0]['user']['links']['html']\n",
    "author_name = json_file['results'][0]['user']['name'] "
   ]
  },
  {
   "cell_type": "code",
   "execution_count": 45,
   "id": "educational-station",
   "metadata": {},
   "outputs": [
    {
     "data": {
      "text/plain": [
       "'Nikitha Suresh'"
      ]
     },
     "execution_count": 45,
     "metadata": {},
     "output_type": "execute_result"
    }
   ],
   "source": [
    "author_name"
   ]
  },
  {
   "cell_type": "code",
   "execution_count": 42,
   "id": "affected-documentary",
   "metadata": {},
   "outputs": [
    {
     "data": {
      "text/plain": [
       "'https://unsplash.com/@nikx391'"
      ]
     },
     "execution_count": 42,
     "metadata": {},
     "output_type": "execute_result"
    }
   ],
   "source": [
    "author_profile"
   ]
  },
  {
   "cell_type": "code",
   "execution_count": 43,
   "id": "welsh-ecology",
   "metadata": {},
   "outputs": [],
   "source": [
    "unsplash_url = 'https://unsplash.com/'"
   ]
  },
  {
   "cell_type": "markdown",
   "id": "wicked-looking",
   "metadata": {},
   "source": [
    "Example:\n",
    ">> Photo by [Nikita Suresh](https://unsplash.com/@nikx391) / [Unsplash](https://unsplash.com/)"
   ]
  },
  {
   "cell_type": "code",
   "execution_count": 47,
   "id": "dress-flour",
   "metadata": {},
   "outputs": [],
   "source": [
    " # have to find a way to incorporate variables into markdown text"
   ]
  },
  {
   "cell_type": "markdown",
   "id": "bottom-debate",
   "metadata": {},
   "source": [
    "## Creating the functions"
   ]
  },
  {
   "cell_type": "code",
   "execution_count": 54,
   "id": "flush-choice",
   "metadata": {},
   "outputs": [],
   "source": [
    "import random"
   ]
  },
  {
   "cell_type": "code",
   "execution_count": 106,
   "id": "sharp-rochester",
   "metadata": {},
   "outputs": [],
   "source": [
    "class ContentImg():\n",
    "    \n",
    "    per_page = 30\n",
    "    index = random.randint(0, per_page-1)\n",
    "    base_uri = 'https://api.unsplash.com'\n",
    "    endpoint_content = '/search/photos'\n",
    "    client_id = 'mlLjW1R9BDrvgazKso2Y4i_b5x9wmegEqGWO5loBrTc'\n",
    "    \n",
    "    def __init__(self):\n",
    "        pass\n",
    "    \n",
    "        \n",
    "    def get_content(self, words):\n",
    "        \n",
    "        params = {\n",
    "        'client_id': self.client_id,\n",
    "        'query': '-'.join(words),\n",
    "        'per_page': self.per_page\n",
    "        }\n",
    "\n",
    "        response = requests.get(self.base_uri + self.endpoint_content, params=params)\n",
    "        json_file = response.json() \n",
    "        img_link = json_file['results'][self.index]['urls']['small']\n",
    "        author_profile = json_file['results'][self.index]['user']['links']['html']\n",
    "        author_name = json_file['results'][self.index]['user']['name']\n",
    "        \n",
    "        return img_link, author_name, author_profile"
   ]
  },
  {
   "cell_type": "code",
   "execution_count": 79,
   "id": "golden-surveillance",
   "metadata": {},
   "outputs": [],
   "source": [
    "class StyleImg():\n",
    "    \n",
    "    per_page = 30\n",
    "    index = random.randint(0, per_page-1)\n",
    "    base_uri = 'https://api.unsplash.com'\n",
    "    endpoint_style = '/topics/textures-patterns/photos'\n",
    "    client_id = 'mlLjW1R9BDrvgazKso2Y4i_b5x9wmegEqGWO5loBrTc'\n",
    "    \n",
    "    def __init__(self):\n",
    "        pass\n",
    "        \n",
    "\n",
    "    def get_style(self):\n",
    "\n",
    "        params = {\n",
    "        'client_id': self.client_id,\n",
    "        'per_page': self.per_page\n",
    "        }\n",
    "\n",
    "        response = requests.get(self.base_uri + self.endpoint_style, params=params)\n",
    "        json_file = response.json()\n",
    "        img_link = json_file[self.index]['urls']['small']\n",
    "        author_profile = json_file[self.index]['user']['links']['html']\n",
    "        author_name = json_file[self.index]['user']['name']\n",
    "        \n",
    "        return img_link, author_name, author_profile"
   ]
  },
  {
   "cell_type": "code",
   "execution_count": null,
   "id": "minimal-thirty",
   "metadata": {},
   "outputs": [],
   "source": []
  }
 ],
 "metadata": {
  "kernelspec": {
   "display_name": "Python 3",
   "language": "python",
   "name": "python3"
  },
  "language_info": {
   "codemirror_mode": {
    "name": "ipython",
    "version": 3
   },
   "file_extension": ".py",
   "mimetype": "text/x-python",
   "name": "python",
   "nbconvert_exporter": "python",
   "pygments_lexer": "ipython3",
   "version": "3.8.6"
  }
 },
 "nbformat": 4,
 "nbformat_minor": 5
}
