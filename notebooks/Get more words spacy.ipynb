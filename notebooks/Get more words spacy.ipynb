{
 "cells": [
  {
   "cell_type": "code",
   "execution_count": 1,
   "id": "controlled-recipient",
   "metadata": {},
   "outputs": [],
   "source": [
    "# pip install -U spacy\n",
    "# python -m spacy download en_core_web_sm\n",
    "import spacy"
   ]
  },
  {
   "cell_type": "code",
   "execution_count": 79,
   "id": "lovely-biography",
   "metadata": {},
   "outputs": [],
   "source": [
    "def get_more_words(text):\n",
    "\n",
    "    nlp = spacy.load(\"en_core_web_sm\")\n",
    "    doc = nlp(text)\n",
    "\n",
    "# Process whole document\n",
    "    \n",
    "\n",
    "# Analyze syntax\n",
    "    noun_phrases = [chunk.text for chunk in doc.noun_chunks]\n",
    "    verbs = [token.lemma_ for token in doc if token.pos_ == \"VERB\"]\n",
    "\n",
    "# Find named entities, phrases and concepts\n",
    "#for entity in doc.ents:\n",
    "    #print(entity.text, entity.label_)\n",
    "\n",
    "    return noun_phrases, verbs\n",
    "    "
   ]
  },
  {
   "cell_type": "code",
   "execution_count": 82,
   "id": "german-vinyl",
   "metadata": {},
   "outputs": [],
   "source": [
    "nouns, verbs = get_more_words(\"Harry, she said, cradled her and, over time, began to formulate a plan to ease the pressure and ensure that the tragedy that had engulfed his mother, Princess Diana, would not repeat itself.\")"
   ]
  },
  {
   "cell_type": "code",
   "execution_count": 83,
   "id": "proprietary-update",
   "metadata": {},
   "outputs": [
    {
     "name": "stdout",
     "output_type": "stream",
     "text": [
      "['Harry', 'she', 'her', 'time', 'a plan', 'the pressure', 'the tragedy', 'his mother', 'Princess Diana', 'itself']\n"
     ]
    }
   ],
   "source": [
    "print(nouns)"
   ]
  },
  {
   "cell_type": "code",
   "execution_count": 84,
   "id": "dramatic-coverage",
   "metadata": {
    "scrolled": true
   },
   "outputs": [
    {
     "name": "stdout",
     "output_type": "stream",
     "text": [
      "['say', 'cradle', 'begin', 'formulate', 'ease', 'ensure', 'engulf', 'repeat']\n"
     ]
    }
   ],
   "source": [
    "print(verbs)"
   ]
  },
  {
   "cell_type": "code",
   "execution_count": null,
   "id": "resident-count",
   "metadata": {},
   "outputs": [],
   "source": []
  }
 ],
 "metadata": {
  "kernelspec": {
   "display_name": "Python 3",
   "language": "python",
   "name": "python3"
  },
  "language_info": {
   "codemirror_mode": {
    "name": "ipython",
    "version": 3
   },
   "file_extension": ".py",
   "mimetype": "text/x-python",
   "name": "python",
   "nbconvert_exporter": "python",
   "pygments_lexer": "ipython3",
   "version": "3.8.6"
  }
 },
 "nbformat": 4,
 "nbformat_minor": 5
}
